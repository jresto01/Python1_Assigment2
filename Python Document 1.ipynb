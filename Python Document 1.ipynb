{
 "cells": [
  {
   "cell_type": "markdown",
   "metadata": {},
   "source": [
    "# Week 2 - Monday Lesson (variable assignment, loops, lists)"
   ]
  },
  {
   "cell_type": "markdown",
   "metadata": {},
   "source": [
    "## Tasks Today:\n",
    "\n",
    "1) Int & Float assignments <br>\n",
    " &nbsp;&nbsp;&nbsp;&nbsp; a) Assigning int <br>\n",
    " &nbsp;&nbsp;&nbsp;&nbsp; b) Assigning float <br>\n",
    " &nbsp;&nbsp;&nbsp;&nbsp; c) Performing Calculations on ints and floats <br>\n",
    " &nbsp;&nbsp;&nbsp;&nbsp;&nbsp;&nbsp;&nbsp;&nbsp; - Addition <br>\n",
    " &nbsp;&nbsp;&nbsp;&nbsp;&nbsp;&nbsp;&nbsp;&nbsp; - Subtraction <br>\n",
    " &nbsp;&nbsp;&nbsp;&nbsp;&nbsp;&nbsp;&nbsp;&nbsp; - Multiplication <br>\n",
    " &nbsp;&nbsp;&nbsp;&nbsp;&nbsp;&nbsp;&nbsp;&nbsp; - Division <br>\n",
    " &nbsp;&nbsp;&nbsp;&nbsp;&nbsp;&nbsp;&nbsp;&nbsp; - Floor Division <br>\n",
    " &nbsp;&nbsp;&nbsp;&nbsp;&nbsp;&nbsp;&nbsp;&nbsp; - Modulo <br>\n",
    " &nbsp;&nbsp;&nbsp;&nbsp;&nbsp;&nbsp;&nbsp;&nbsp; - Exponential <br>\n",
    "2) String Input-Output <br>\n",
    " &nbsp;&nbsp;&nbsp;&nbsp; a) String Assignment <br>\n",
    " &nbsp;&nbsp;&nbsp;&nbsp; b) print() <br>\n",
    " &nbsp;&nbsp;&nbsp;&nbsp; c) String Concatenation <br>\n",
    " &nbsp;&nbsp;&nbsp;&nbsp; d) Type Conversion <br>\n",
    " &nbsp;&nbsp;&nbsp;&nbsp; e) input() <br>\n",
    " &nbsp;&nbsp;&nbsp;&nbsp; f) format() <br>\n",
    " &nbsp;&nbsp;&nbsp;&nbsp; g) Old Way (python 2) <br>\n",
    "3) <b>In-Class Exercise #1</b> <br>\n",
    "4) If Statements <br>\n",
    " &nbsp;&nbsp;&nbsp;&nbsp; a) 'is' keyword <br>\n",
    " &nbsp;&nbsp;&nbsp;&nbsp; b) 'in' keyword <br>\n",
    " &nbsp;&nbsp;&nbsp;&nbsp; c) 'not in' keyword <br>\n",
    "5) <b>In-Class Exercise #2</b> <br>\n",
    "6) Elif Statements <br>\n",
    "7) Else Statements <br>\n",
    "8) <b>In-Class Exercise #3</b> <br>\n",
    "9) For Loops <br>\n",
    " &nbsp;&nbsp;&nbsp;&nbsp; a) Using 'in' keyword <br>\n",
    " &nbsp;&nbsp;&nbsp;&nbsp; b) Continue Statement <br>\n",
    " &nbsp;&nbsp;&nbsp;&nbsp; c) Break Statement <br>\n",
    " &nbsp;&nbsp;&nbsp;&nbsp; d) Pass Statement <br>\n",
    " &nbsp;&nbsp;&nbsp;&nbsp; e) Double For Loops <br>\n",
    "10) While Loops <br>\n",
    " &nbsp;&nbsp;&nbsp;&nbsp; a) Looping 'While True' <br>\n",
    " &nbsp;&nbsp;&nbsp;&nbsp; b) While and For Loops Used Together <br>\n",
    "11) Built-In Functions <br>\n",
    " &nbsp;&nbsp;&nbsp;&nbsp; a) range() <br>\n",
    " &nbsp;&nbsp;&nbsp;&nbsp; b) len() <br>\n",
    " &nbsp;&nbsp;&nbsp;&nbsp; c) help() <br>\n",
    " &nbsp;&nbsp;&nbsp;&nbsp; d) isinstance() <br>\n",
    " &nbsp;&nbsp;&nbsp;&nbsp; e) abs() <br>\n",
    "12) Try and Except <br>\n",
    "13) Lists <br>\n",
    " &nbsp;&nbsp;&nbsp;&nbsp; a) Declaring Lists <br>\n",
    " &nbsp;&nbsp;&nbsp;&nbsp; b) Indexing a List <br>\n",
    " &nbsp;&nbsp;&nbsp;&nbsp; c) .append() <br>\n",
    " &nbsp;&nbsp;&nbsp;&nbsp; d) .insert() <br>\n",
    " &nbsp;&nbsp;&nbsp;&nbsp; e) .pop() <br>\n",
    " &nbsp;&nbsp;&nbsp;&nbsp; f) .remove() <br>\n",
    " &nbsp;&nbsp;&nbsp;&nbsp; g) del() <br>\n",
    " &nbsp;&nbsp;&nbsp;&nbsp; h) Concatenating Two Lists <br>\n",
    " &nbsp;&nbsp;&nbsp;&nbsp; i) Lists Within Lists <br>\n",
    " &nbsp;&nbsp;&nbsp;&nbsp; j) Looping Through Lists <br>"
   ]
  },
  {
   "cell_type": "markdown",
   "metadata": {},
   "source": [
    "### Int & Float Assignments"
   ]
  },
  {
   "cell_type": "markdown",
   "metadata": {},
   "source": [
    "##### Assigning int"
   ]
  },
  {
   "cell_type": "code",
   "execution_count": 1,
   "metadata": {},
   "outputs": [
    {
     "name": "stdout",
     "output_type": "stream",
     "text": [
      "6\n"
     ]
    }
   ],
   "source": [
    "number = 6\n",
    "\n",
    "print(number)"
   ]
  },
  {
   "cell_type": "markdown",
   "metadata": {},
   "source": [
    "##### Assinging float"
   ]
  },
  {
   "cell_type": "code",
   "execution_count": 4,
   "metadata": {},
   "outputs": [
    {
     "name": "stdout",
     "output_type": "stream",
     "text": [
      "2.3\n"
     ]
    }
   ],
   "source": [
    "numberFloat = 2.3\n",
    "\n",
    "print(numberFloat)"
   ]
  },
  {
   "cell_type": "markdown",
   "metadata": {},
   "source": [
    "#### Performing Calculations on ints and floats"
   ]
  },
  {
   "cell_type": "markdown",
   "metadata": {},
   "source": [
    "##### Addition"
   ]
  },
  {
   "cell_type": "code",
   "execution_count": 6,
   "metadata": {},
   "outputs": [
    {
     "name": "stdout",
     "output_type": "stream",
     "text": [
      "7.4\n",
      "9.4\n"
     ]
    }
   ],
   "source": [
    "num1 = 2\n",
    "num2 = 5.4\n",
    "\n",
    "result = num1 + num2\n",
    "print(result)\n",
    "\n",
    "result += 2\n",
    "print(result)"
   ]
  },
  {
   "cell_type": "markdown",
   "metadata": {},
   "source": [
    "##### Subtraction"
   ]
  },
  {
   "cell_type": "code",
   "execution_count": 10,
   "metadata": {},
   "outputs": [
    {
     "name": "stdout",
     "output_type": "stream",
     "text": [
      "3.4000000000000004\n",
      "1.4000000000000004\n"
     ]
    }
   ],
   "source": [
    "result_diff = num2 - num1\n",
    "print(result_diff)\n",
    "\n",
    "result_diff -= 1\n",
    "print(result_diff - 1)"
   ]
  },
  {
   "cell_type": "markdown",
   "metadata": {},
   "source": [
    "##### Multiplication"
   ]
  },
  {
   "cell_type": "code",
   "execution_count": 13,
   "metadata": {},
   "outputs": [
    {
     "name": "stdout",
     "output_type": "stream",
     "text": [
      "10.8\n",
      "21.6\n"
     ]
    }
   ],
   "source": [
    "result_mul = num1 * num2\n",
    "print(result_mul)\n",
    "\n",
    "result_mul *= 2\n",
    "print(result_mul)"
   ]
  },
  {
   "cell_type": "markdown",
   "metadata": {},
   "source": [
    "##### Division"
   ]
  },
  {
   "cell_type": "code",
   "execution_count": 16,
   "metadata": {},
   "outputs": [
    {
     "name": "stdout",
     "output_type": "stream",
     "text": [
      "2.7\n",
      "0.9\n"
     ]
    }
   ],
   "source": [
    "result_div = num2/num1\n",
    "print(result_div)\n",
    "\n",
    "result_div /= 3 \n",
    "print(result_div)"
   ]
  },
  {
   "cell_type": "markdown",
   "metadata": {},
   "source": [
    "##### Floor Division"
   ]
  },
  {
   "cell_type": "code",
   "execution_count": 18,
   "metadata": {},
   "outputs": [
    {
     "name": "stdout",
     "output_type": "stream",
     "text": [
      "2.0\n",
      "1.0\n"
     ]
    }
   ],
   "source": [
    "result_floor = num2 // num1\n",
    "print(result_floor)\n",
    "\n",
    "result_floor //= 2\n",
    "print(result_floor)"
   ]
  },
  {
   "cell_type": "markdown",
   "metadata": {},
   "source": [
    "##### Modulo"
   ]
  },
  {
   "cell_type": "code",
   "execution_count": 21,
   "metadata": {},
   "outputs": [
    {
     "name": "stdout",
     "output_type": "stream",
     "text": [
      "1\n",
      "1\n"
     ]
    }
   ],
   "source": [
    "result_mod = 13 % 2\n",
    "print(result_mod)\n",
    "\n",
    "result_mod %= 2\n",
    "print(result_mod)"
   ]
  },
  {
   "cell_type": "markdown",
   "metadata": {},
   "source": [
    "##### Exponential"
   ]
  },
  {
   "cell_type": "code",
   "execution_count": 24,
   "metadata": {},
   "outputs": [
    {
     "name": "stdout",
     "output_type": "stream",
     "text": [
      "25\n",
      "625\n"
     ]
    }
   ],
   "source": [
    "square = 5 ** 2\n",
    "print(square)\n",
    "\n",
    "square **= 2\n",
    "print(square)"
   ]
  },
  {
   "cell_type": "markdown",
   "metadata": {},
   "source": [
    "### String Input-Output"
   ]
  },
  {
   "cell_type": "markdown",
   "metadata": {},
   "source": [
    "##### String Assignment"
   ]
  },
  {
   "cell_type": "code",
   "execution_count": null,
   "metadata": {},
   "outputs": [],
   "source": [
    "name = \"Javier\"\n",
    "print(name)"
   ]
  },
  {
   "cell_type": "markdown",
   "metadata": {},
   "source": [
    "##### print() <br>\n",
    "<p>Don't forget about end=' '</p>"
   ]
  },
  {
   "cell_type": "code",
   "execution_count": 33,
   "metadata": {},
   "outputs": [
    {
     "name": "stdout",
     "output_type": "stream",
     "text": [
      "This is my first name: Javier\n",
      "Full Name: Javier Resto"
     ]
    }
   ],
   "source": [
    "print(\"This is my first name:\", name)\n",
    "\n",
    "print(\"Full Name:\", name, end=\" Resto\")"
   ]
  },
  {
   "cell_type": "markdown",
   "metadata": {},
   "source": [
    "##### String Concatenation"
   ]
  },
  {
   "cell_type": "code",
   "execution_count": 36,
   "metadata": {},
   "outputs": [
    {
     "name": "stdout",
     "output_type": "stream",
     "text": [
      "Javier Resto\n",
      "Javier Resto, Jr\n"
     ]
    }
   ],
   "source": [
    "first_name = \"Javier\"\n",
    "last_name = \"Resto\"\n",
    "\n",
    "full_name = first_name + \" \" + last_name\n",
    "print(full_name)\n",
    "\n",
    "full_name += \", Jr\"\n",
    "print(full_name)"
   ]
  },
  {
   "cell_type": "markdown",
   "metadata": {},
   "source": [
    "##### Type Conversion"
   ]
  },
  {
   "cell_type": "code",
   "execution_count": 41,
   "metadata": {},
   "outputs": [
    {
     "name": "stdout",
     "output_type": "stream",
     "text": [
      "32\n",
      "32\n",
      "33\n"
     ]
    }
   ],
   "source": [
    "number = \"32\"\n",
    "change_type_number = int(number)\n",
    "\n",
    "print(number)\n",
    "print(change_type_number)\n",
    "\n",
    "print(change_type_number + 1)"
   ]
  },
  {
   "cell_type": "markdown",
   "metadata": {},
   "source": [
    "##### input()"
   ]
  },
  {
   "cell_type": "code",
   "execution_count": 2,
   "metadata": {},
   "outputs": [
    {
     "name": "stdout",
     "output_type": "stream",
     "text": [
      "What is your age: 35\n",
      "40\n"
     ]
    }
   ],
   "source": [
    "# Input will always retunr a string\n",
    "\n",
    "# name = input(\"What is your name?\")\n",
    "# print(\"Nice to meet you, \" + name)\n",
    "\n",
    "age = int(input(\"What is your age: \"))\n",
    "add_age = age + 5\n",
    "print(add_age)"
   ]
  },
  {
   "cell_type": "markdown",
   "metadata": {},
   "source": [
    "format()"
   ]
  },
  {
   "cell_type": "code",
   "execution_count": 51,
   "metadata": {},
   "outputs": [
    {
     "name": "stdout",
     "output_type": "stream",
     "text": [
      "What is your age? 35\n",
      "You are 35 Javier and you are getting wiser\n",
      "35 is a great time in life!\n"
     ]
    }
   ],
   "source": [
    "age = input(\"What is your age? \")\n",
    "\n",
    "result_string = \"You are {} {} and you are getting wiser\".format(age, name)\n",
    "print(result_string)\n",
    "\n",
    "result_again = f\"{age} is a great time in life!\"\n",
    "print(result_again)"
   ]
  },
  {
   "cell_type": "markdown",
   "metadata": {},
   "source": [
    "##### Old Way (python 2)"
   ]
  },
  {
   "cell_type": "code",
   "execution_count": 52,
   "metadata": {},
   "outputs": [
    {
     "name": "stdout",
     "output_type": "stream",
     "text": [
      "You are 35 and you look great for your age!\n"
     ]
    }
   ],
   "source": [
    "result_string2 = \"You are %s and you look great for your age!\" %age\n",
    "print(result_string2)"
   ]
  },
  {
   "cell_type": "markdown",
   "metadata": {},
   "source": [
    "# In-Class Exercise 1 <br>\n",
    "<p>Create a format statement that asks for color, year, make, model and prints out the results</p>"
   ]
  },
  {
   "cell_type": "code",
   "execution_count": 56,
   "metadata": {},
   "outputs": [
    {
     "name": "stdout",
     "output_type": "stream",
     "text": [
      "Whas is name? javier\n",
      "What color is your car? red\n",
      "What year is your car? 2019\n",
      "What model is your car? toyota chr\n",
      "Javier, your 2019 Toyota Chr's color is red.\n"
     ]
    }
   ],
   "source": [
    "name = input(\"Whas is name? \")\n",
    "car_color = input(\"What color is your car? \")\n",
    "car_year = input(\"What year is your car? \")\n",
    "car_make = input (\"What model is your car? \")\n",
    "\n",
    "print(f\"{name.title()}, your {car_year} {car_make.title()}'s color is {car_color}.\")"
   ]
  },
  {
   "cell_type": "markdown",
   "metadata": {},
   "source": [
    "### If Statements"
   ]
  },
  {
   "cell_type": "code",
   "execution_count": 59,
   "metadata": {},
   "outputs": [
    {
     "name": "stdout",
     "output_type": "stream",
     "text": [
      "This is true!\n",
      "Num2 is greater\n"
     ]
    }
   ],
   "source": [
    "# Available operators: Greater(>), Less(<),Equal(==)\n",
    "# Greater or Equal(>=), Less or Equal (<=)\n",
    "\n",
    "# Truth Tree:\n",
    "# T && F = F\n",
    "# T && T = T\n",
    "# T || F = T\n",
    "# F || T = T\n",
    "# F || F = F\n",
    "\n",
    "num1 = 5\n",
    "num2 = 10\n",
    "\n",
    "if num1 == 5:\n",
    "    print(\"This is true!\")\n",
    "else:\n",
    "    print(\"This is false.\")\n",
    "    \n",
    "if num2 > num1:\n",
    "    print(\"Num2 is greater\")\n",
    "elif num1 > num1:\n",
    "    print(\"Num1 is greater\")\n",
    "else:\n",
    "    print(\"Equal values\")"
   ]
  },
  {
   "cell_type": "markdown",
   "metadata": {},
   "source": [
    "##### 'is' keyword"
   ]
  },
  {
   "cell_type": "code",
   "execution_count": 21,
   "metadata": {
    "scrolled": true
   },
   "outputs": [
    {
     "name": "stdout",
     "output_type": "stream",
     "text": [
      "This is the exact number/object\n"
     ]
    },
    {
     "name": "stderr",
     "output_type": "stream",
     "text": [
      "<>:5: SyntaxWarning: \"is\" with a literal. Did you mean \"==\"?\n",
      "<>:5: SyntaxWarning: \"is\" with a literal. Did you mean \"==\"?\n",
      "C:\\Users\\jrest\\AppData\\Local\\Temp\\ipykernel_8376\\2155211507.py:5: SyntaxWarning: \"is\" with a literal. Did you mean \"==\"?\n",
      "  if num3 is 55:\n"
     ]
    }
   ],
   "source": [
    "# The \"is\" keyword is for checking for the same object , but not the same value\n",
    "\n",
    "num3 = 55\n",
    "\n",
    "if num3 is 55:\n",
    "    print(\"This is the exact number/object\")"
   ]
  },
  {
   "cell_type": "markdown",
   "metadata": {},
   "source": [
    "##### 'in' keyword"
   ]
  },
  {
   "cell_type": "code",
   "execution_count": 64,
   "metadata": {},
   "outputs": [
    {
     "name": "stdout",
     "output_type": "stream",
     "text": [
      "The ring bearer\n"
     ]
    }
   ],
   "source": [
    "# Check if a character is in a sting\n",
    "\n",
    "char_name = \"Frodo Baggings\"\n",
    "\n",
    "if \"Frodo\" in char_name:\n",
    "    print(\"The ring bearer\")"
   ]
  },
  {
   "cell_type": "markdown",
   "metadata": {},
   "source": [
    "##### 'not in' keyword'"
   ]
  },
  {
   "cell_type": "code",
   "execution_count": 65,
   "metadata": {},
   "outputs": [
    {
     "name": "stdout",
     "output_type": "stream",
     "text": [
      "a is not here\n"
     ]
    }
   ],
   "source": [
    "segar_char = \"Sonic\"\n",
    "\n",
    "if 'a' not in segar_char:\n",
    "    print('a is NOT here')"
   ]
  },
  {
   "cell_type": "markdown",
   "metadata": {},
   "source": [
    "# In-Class Exercise 2 <br>\n",
    "<p>Ask user for input, check to see if the letter 'p' is in the input</p>"
   ]
  },
  {
   "cell_type": "code",
   "execution_count": 70,
   "metadata": {
    "scrolled": true
   },
   "outputs": [
    {
     "name": "stdout",
     "output_type": "stream",
     "text": [
      "What is your name? javier\n",
      "The letter 'p is not in javier\n"
     ]
    }
   ],
   "source": [
    "user_name = input(\"What is your name? \")\n",
    "\n",
    "if \"p\" in user_name.lower():\n",
    "    print(f\"The letter 'p' is in {user_name}\")\n",
    "else:\n",
    "    print(f\"The letter 'p is not in {user_name}\")"
   ]
  },
  {
   "cell_type": "markdown",
   "metadata": {},
   "source": [
    "## Using 'and'/'or' with If Statements"
   ]
  },
  {
   "cell_type": "code",
   "execution_count": 71,
   "metadata": {},
   "outputs": [
    {
     "name": "stdout",
     "output_type": "stream",
     "text": [
      "True and True\n"
     ]
    }
   ],
   "source": [
    "num_11 = 15\n",
    "num_12 = 3\n",
    "num_13 = 10\n",
    "num_14 = 3\n",
    "\n",
    "# If with 'and' statement\n",
    "if num_11 / 5 == num_12 and num_13 - 7 == num_14:\n",
    "    print(\"True and True\")\n",
    "    \n",
    "# If with 'or' statement\n",
    "if num_11 > num_12 or num_13 == num_14:\n",
    "    print(\"True and False\")"
   ]
  },
  {
   "cell_type": "markdown",
   "metadata": {},
   "source": [
    "### Elif Statements"
   ]
  },
  {
   "cell_type": "code",
   "execution_count": 77,
   "metadata": {},
   "outputs": [
    {
     "name": "stdout",
     "output_type": "stream",
     "text": [
      "What is your name? Max\n",
      "The name is Max\n"
     ]
    }
   ],
   "source": [
    "first_name = input(\"What is your name? \")\n",
    "\n",
    "if first_name.title() == \"Smith\":\n",
    "    print(\"The name is Smith.\")\n",
    "elif first_name.title() == \"Javier\":\n",
    "    print(\"The name is Javier.\")\n",
    "elif first_name.title() != \"Max\":\n",
    "    print(\"The name is NOT Max.\")\n",
    "else:\n",
    "    print(\"The name is Max\")"
   ]
  },
  {
   "cell_type": "markdown",
   "metadata": {},
   "source": [
    "### Else Statements"
   ]
  },
  {
   "cell_type": "code",
   "execution_count": null,
   "metadata": {},
   "outputs": [],
   "source": [
    "# see above"
   ]
  },
  {
   "cell_type": "markdown",
   "metadata": {},
   "source": [
    "### For Loops"
   ]
  },
  {
   "cell_type": "code",
   "execution_count": 79,
   "metadata": {},
   "outputs": [
    {
     "name": "stdout",
     "output_type": "stream",
     "text": [
      "6\n",
      "7\n",
      "8\n",
      "9\n"
     ]
    }
   ],
   "source": [
    "# Syntax:\n",
    "# for counter in condition\n",
    "\n",
    "name = \"Javier Resto\"\n",
    "\n",
    "for letter in name:\n",
    "    print(letter)\n",
    "\n"
   ]
  },
  {
   "cell_type": "markdown",
   "metadata": {},
   "source": [
    "##### Using 'in' keyword"
   ]
  },
  {
   "cell_type": "code",
   "execution_count": null,
   "metadata": {},
   "outputs": [],
   "source": [
    "# see above"
   ]
  },
  {
   "cell_type": "markdown",
   "metadata": {},
   "source": [
    "##### Continue Statement"
   ]
  },
  {
   "cell_type": "code",
   "execution_count": null,
   "metadata": {},
   "outputs": [],
   "source": [
    "# will continue to next iteration basically skip that step"
   ]
  },
  {
   "cell_type": "code",
   "execution_count": 82,
   "metadata": {},
   "outputs": [
    {
     "name": "stdout",
     "output_type": "stream",
     "text": [
      "0\n",
      "1\n",
      "2\n",
      "3\n",
      "4\n",
      "6\n",
      "7\n",
      "8\n",
      "9\n",
      "10\n",
      "11\n",
      "12\n",
      "13\n",
      "14\n",
      "15\n",
      "16\n",
      "17\n",
      "18\n",
      "19\n"
     ]
    }
   ],
   "source": [
    "for i in range(20):\n",
    "    if i == 5:\n",
    "        continue\n",
    "    print(i)"
   ]
  },
  {
   "cell_type": "markdown",
   "metadata": {},
   "source": [
    "##### Break Statement"
   ]
  },
  {
   "cell_type": "code",
   "execution_count": null,
   "metadata": {},
   "outputs": [],
   "source": [
    "# will break out of current loop will stop everything"
   ]
  },
  {
   "cell_type": "code",
   "execution_count": 83,
   "metadata": {},
   "outputs": [
    {
     "name": "stdout",
     "output_type": "stream",
     "text": [
      "0\n",
      "1\n",
      "2\n",
      "3\n",
      "4\n"
     ]
    }
   ],
   "source": [
    "for i in range(20):\n",
    "    if i == 5:\n",
    "        break\n",
    "    print(i)"
   ]
  },
  {
   "cell_type": "markdown",
   "metadata": {},
   "source": [
    "##### Pass Statement"
   ]
  },
  {
   "cell_type": "code",
   "execution_count": null,
   "metadata": {},
   "outputs": [],
   "source": [
    "# mostly used as a placeholder, and will continue on same iteration"
   ]
  },
  {
   "cell_type": "code",
   "execution_count": 19,
   "metadata": {},
   "outputs": [],
   "source": [
    "name = \"Javier Resto\"\n",
    "\n",
    "for i in name:\n",
    "    pass"
   ]
  },
  {
   "cell_type": "markdown",
   "metadata": {},
   "source": [
    "##### Double For Loops"
   ]
  },
  {
   "cell_type": "code",
   "execution_count": 84,
   "metadata": {},
   "outputs": [
    {
     "name": "stdout",
     "output_type": "stream",
     "text": [
      "i =  0 j =  0\n",
      "i =  0 j =  1\n",
      "i =  0 j =  2\n",
      "i =  0 j =  3\n",
      "i =  0 j =  4\n",
      "i =  1 j =  0\n",
      "i =  1 j =  1\n",
      "i =  1 j =  2\n",
      "i =  1 j =  3\n",
      "i =  1 j =  4\n",
      "i =  2 j =  0\n",
      "i =  2 j =  1\n",
      "i =  2 j =  2\n",
      "i =  2 j =  3\n",
      "i =  2 j =  4\n",
      "i =  3 j =  0\n",
      "i =  3 j =  1\n",
      "i =  3 j =  2\n",
      "i =  3 j =  3\n",
      "i =  3 j =  4\n",
      "i =  4 j =  0\n",
      "i =  4 j =  1\n",
      "i =  4 j =  2\n",
      "i =  4 j =  3\n",
      "i =  4 j =  4\n"
     ]
    }
   ],
   "source": [
    "for i in range(5):\n",
    "    for j in range(5):\n",
    "        print(\"i = \", i, \"j = \", j)"
   ]
  },
  {
   "cell_type": "markdown",
   "metadata": {},
   "source": [
    "### While Loops"
   ]
  },
  {
   "cell_type": "code",
   "execution_count": 85,
   "metadata": {},
   "outputs": [
    {
     "name": "stdout",
     "output_type": "stream",
     "text": [
      "0\n",
      "1\n",
      "2\n",
      "3\n",
      "4\n",
      "5\n",
      "6\n",
      "7\n",
      "8\n",
      "9\n"
     ]
    }
   ],
   "source": [
    "# Syntax:\n",
    "# While keyword, condition statement \n",
    "\n",
    "num = 0\n",
    "\n",
    "while num < 10:\n",
    "    print(num)\n",
    "    num += 1"
   ]
  },
  {
   "cell_type": "markdown",
   "metadata": {},
   "source": [
    "##### Looping 'While True'"
   ]
  },
  {
   "cell_type": "code",
   "execution_count": 86,
   "metadata": {},
   "outputs": [
    {
     "name": "stdout",
     "output_type": "stream",
     "text": [
      "Infinite Loop\n",
      "Would you like to stop Y/N? n\n",
      "Infinite Loop\n",
      "Would you like to stop Y/N? n\n",
      "Infinite Loop\n",
      "Would you like to stop Y/N? y\n"
     ]
    }
   ],
   "source": [
    "game_over = True #Flag always needed otherwise its bad practice\n",
    "\n",
    "while game_over:\n",
    "    print(\"Infinite Loop\")\n",
    "    user_input = input(\"Would you like to stop Y/N? \")\n",
    "    if user_input.upper() == \"Y\":\n",
    "        game_over = False\n",
    "    "
   ]
  },
  {
   "cell_type": "markdown",
   "metadata": {},
   "source": [
    "##### While & For Loops Used Together"
   ]
  },
  {
   "cell_type": "code",
   "execution_count": 89,
   "metadata": {},
   "outputs": [
    {
     "name": "stdout",
     "output_type": "stream",
     "text": [
      "\n",
      "While loop iteration: 0\n",
      "For loop iteration: 1\n",
      "For loop iteration: 2\n",
      "\n",
      "While loop iteration: 1\n",
      "For loop iteration: 1\n",
      "For loop iteration: 2\n",
      "\n",
      "While loop iteration: 2\n",
      "For loop iteration: 1\n",
      "For loop iteration: 2\n",
      "\n",
      "While loop iteration: 3\n",
      "For loop iteration: 1\n",
      "For loop iteration: 2\n",
      "\n",
      "While loop iteration: 4\n",
      "For loop iteration: 1\n",
      "For loop iteration: 2\n"
     ]
    }
   ],
   "source": [
    "num = 0\n",
    "\n",
    "while num < 5:\n",
    "    print(\"\\nWhile loop iteration: \" + str(num))\n",
    "    \n",
    "    for i in range(2):\n",
    "        print(\"For loop iteration: \" + str(1 + i))\n",
    "        \n",
    "    num += 1"
   ]
  },
  {
   "cell_type": "markdown",
   "metadata": {},
   "source": [
    "### Built-In Functions"
   ]
  },
  {
   "cell_type": "markdown",
   "metadata": {},
   "source": [
    "##### range()"
   ]
  },
  {
   "cell_type": "code",
   "execution_count": 91,
   "metadata": {},
   "outputs": [
    {
     "name": "stdout",
     "output_type": "stream",
     "text": [
      "2\n",
      "4\n",
      "6\n",
      "8\n",
      "10\n",
      "12\n",
      "14\n",
      "16\n",
      "18\n"
     ]
    }
   ],
   "source": [
    "# range (start, stop, step)\n",
    "\n",
    "for i in range(2, 20, 2):\n",
    "    print(i)"
   ]
  },
  {
   "cell_type": "markdown",
   "metadata": {},
   "source": [
    "##### len()"
   ]
  },
  {
   "cell_type": "code",
   "execution_count": 95,
   "metadata": {},
   "outputs": [
    {
     "name": "stdout",
     "output_type": "stream",
     "text": [
      "Give me the name of your favorite book: Cronicas de una muerte anunciada\n",
      "32\n"
     ]
    }
   ],
   "source": [
    "name = input(\"Give me the name of your favorite book: \")\n",
    "length = len(name)\n",
    "print(length)"
   ]
  },
  {
   "cell_type": "markdown",
   "metadata": {},
   "source": [
    "##### help()"
   ]
  },
  {
   "cell_type": "code",
   "execution_count": 96,
   "metadata": {},
   "outputs": [
    {
     "name": "stdout",
     "output_type": "stream",
     "text": [
      "Help on class range in module builtins:\n",
      "\n",
      "class range(object)\n",
      " |  range(stop) -> range object\n",
      " |  range(start, stop[, step]) -> range object\n",
      " |  \n",
      " |  Return an object that produces a sequence of integers from start (inclusive)\n",
      " |  to stop (exclusive) by step.  range(i, j) produces i, i+1, i+2, ..., j-1.\n",
      " |  start defaults to 0, and stop is omitted!  range(4) produces 0, 1, 2, 3.\n",
      " |  These are exactly the valid indices for a list of 4 elements.\n",
      " |  When step is given, it specifies the increment (or decrement).\n",
      " |  \n",
      " |  Methods defined here:\n",
      " |  \n",
      " |  __bool__(self, /)\n",
      " |      True if self else False\n",
      " |  \n",
      " |  __contains__(self, key, /)\n",
      " |      Return key in self.\n",
      " |  \n",
      " |  __eq__(self, value, /)\n",
      " |      Return self==value.\n",
      " |  \n",
      " |  __ge__(self, value, /)\n",
      " |      Return self>=value.\n",
      " |  \n",
      " |  __getattribute__(self, name, /)\n",
      " |      Return getattr(self, name).\n",
      " |  \n",
      " |  __getitem__(self, key, /)\n",
      " |      Return self[key].\n",
      " |  \n",
      " |  __gt__(self, value, /)\n",
      " |      Return self>value.\n",
      " |  \n",
      " |  __hash__(self, /)\n",
      " |      Return hash(self).\n",
      " |  \n",
      " |  __iter__(self, /)\n",
      " |      Implement iter(self).\n",
      " |  \n",
      " |  __le__(self, value, /)\n",
      " |      Return self<=value.\n",
      " |  \n",
      " |  __len__(self, /)\n",
      " |      Return len(self).\n",
      " |  \n",
      " |  __lt__(self, value, /)\n",
      " |      Return self<value.\n",
      " |  \n",
      " |  __ne__(self, value, /)\n",
      " |      Return self!=value.\n",
      " |  \n",
      " |  __reduce__(...)\n",
      " |      Helper for pickle.\n",
      " |  \n",
      " |  __repr__(self, /)\n",
      " |      Return repr(self).\n",
      " |  \n",
      " |  __reversed__(...)\n",
      " |      Return a reverse iterator.\n",
      " |  \n",
      " |  count(...)\n",
      " |      rangeobject.count(value) -> integer -- return number of occurrences of value\n",
      " |  \n",
      " |  index(...)\n",
      " |      rangeobject.index(value) -> integer -- return index of value.\n",
      " |      Raise ValueError if the value is not present.\n",
      " |  \n",
      " |  ----------------------------------------------------------------------\n",
      " |  Static methods defined here:\n",
      " |  \n",
      " |  __new__(*args, **kwargs) from builtins.type\n",
      " |      Create and return a new object.  See help(type) for accurate signature.\n",
      " |  \n",
      " |  ----------------------------------------------------------------------\n",
      " |  Data descriptors defined here:\n",
      " |  \n",
      " |  start\n",
      " |  \n",
      " |  step\n",
      " |  \n",
      " |  stop\n",
      "\n"
     ]
    }
   ],
   "source": [
    "# Use this funtion to view more info about a python function\n",
    "help(range)"
   ]
  },
  {
   "cell_type": "markdown",
   "metadata": {},
   "source": [
    "##### isinstance()"
   ]
  },
  {
   "cell_type": "code",
   "execution_count": 105,
   "metadata": {},
   "outputs": [
    {
     "name": "stdout",
     "output_type": "stream",
     "text": [
      "4.4 is a float.\n"
     ]
    }
   ],
   "source": [
    "# Check a variable to find out what object family or data type it belongs to\n",
    "# Syntax: isinstance(var, type)\n",
    "\n",
    "num = 4.4\n",
    "\n",
    "\n",
    "if isinstance(num, int):\n",
    "    print(f\"{num} is an int.\")\n",
    "else:\n",
    "    print(f\"{num} is a float.\")\n"
   ]
  },
  {
   "cell_type": "markdown",
   "metadata": {},
   "source": [
    "##### abs()"
   ]
  },
  {
   "cell_type": "code",
   "execution_count": 106,
   "metadata": {},
   "outputs": [
    {
     "name": "stdout",
     "output_type": "stream",
     "text": [
      "5\n"
     ]
    }
   ],
   "source": [
    "# Absolute value. convert negative number to values\n",
    "\n",
    "print(abs(-5))"
   ]
  },
  {
   "cell_type": "markdown",
   "metadata": {},
   "source": [
    "### Try and Except"
   ]
  },
  {
   "cell_type": "code",
   "execution_count": 110,
   "metadata": {},
   "outputs": [
    {
     "name": "stdout",
     "output_type": "stream",
     "text": [
      "Guess a numberapple\n",
      "That didn't work! Change your input to a number!\n"
     ]
    }
   ],
   "source": [
    "# Use this to log out graceful and useful error messages\n",
    "#Does not stop the program\n",
    "\n",
    "try:\n",
    "    input_num = int(input(\"Guess a number \"))\n",
    "    print(\"Your number is: \" + str(input_num))\n",
    "except:\n",
    "    print(\"That didn't work! Change your input to a number!\")"
   ]
  },
  {
   "cell_type": "markdown",
   "metadata": {},
   "source": [
    "### Lists"
   ]
  },
  {
   "cell_type": "markdown",
   "metadata": {},
   "source": [
    "##### Declaring Lists"
   ]
  },
  {
   "cell_type": "code",
   "execution_count": 125,
   "metadata": {},
   "outputs": [
    {
     "name": "stdout",
     "output_type": "stream",
     "text": [
      "['Max', 'Cindy', 'Kathy', 'bob', 'Nate']\n"
     ]
    }
   ],
   "source": [
    "list1 = []\n",
    "names = ['Max', 'Cindy', 'Kathy', 'bob', 'Nate']\n",
    "\n",
    "print(names)"
   ]
  },
  {
   "cell_type": "markdown",
   "metadata": {},
   "source": [
    "##### Indexing a List"
   ]
  },
  {
   "cell_type": "code",
   "execution_count": 126,
   "metadata": {},
   "outputs": [
    {
     "name": "stdout",
     "output_type": "stream",
     "text": [
      "Max\n",
      "['Cindy', 'Kathy', 'bob', 'Nate']\n",
      "['Max', 'Cindy']\n",
      "['Cindy', 'bob']\n",
      "['Nate', 'bob', 'Kathy', 'Cindy', 'Max']\n"
     ]
    }
   ],
   "source": [
    "# list_name[start: stop: step]\n",
    "\n",
    "#Single index\n",
    "print(names[0])\n",
    "\n",
    "#Print starting an index 1 until the end of the lis\n",
    "print(names[1:])\n",
    "\n",
    "#Print starting at the beginning of a list up until a number\n",
    "print(names[:2])\n",
    "\n",
    "#Print starting at index 1 and going up by 2 in each iteration\n",
    "print(names[1::2])\n",
    "\n",
    "#Print starting at the back and display in reverse order\n",
    "print(names[::-1])"
   ]
  },
  {
   "cell_type": "markdown",
   "metadata": {},
   "source": [
    "##### .append()"
   ]
  },
  {
   "cell_type": "code",
   "execution_count": 127,
   "metadata": {},
   "outputs": [
    {
     "name": "stdout",
     "output_type": "stream",
     "text": [
      "['Max', 'Cindy', 'Kathy', 'bob', 'Nate', 'Javier']\n"
     ]
    }
   ],
   "source": [
    "#Append allways add it at the end of the list \n",
    "names.append('Javier')\n",
    "print(names)"
   ]
  },
  {
   "cell_type": "markdown",
   "metadata": {},
   "source": [
    "##### .insert()"
   ]
  },
  {
   "cell_type": "code",
   "execution_count": 132,
   "metadata": {},
   "outputs": [
    {
     "name": "stdout",
     "output_type": "stream",
     "text": [
      "['Max', 'Cindy', 'bob', 'Devon', 'Nate', 'Javier']\n"
     ]
    }
   ],
   "source": [
    "#Insert allows you to add the item to the list at whatever index you want\n",
    "names.insert(3, 'Devon')\n",
    "print(names)"
   ]
  },
  {
   "cell_type": "markdown",
   "metadata": {},
   "source": [
    "##### .pop()"
   ]
  },
  {
   "cell_type": "code",
   "execution_count": 131,
   "metadata": {},
   "outputs": [
    {
     "name": "stdout",
     "output_type": "stream",
     "text": [
      "Devon\n"
     ]
    }
   ],
   "source": [
    "#Defaults to the last value if no index its given \n",
    "#Pop retunrs the element that was removed in case you want to assign it to a variable \n",
    "\n",
    "my_name = names.pop(2)\n",
    "print(my_name)"
   ]
  },
  {
   "cell_type": "markdown",
   "metadata": {},
   "source": [
    "\n",
    "##### .remove()"
   ]
  },
  {
   "cell_type": "code",
   "execution_count": 133,
   "metadata": {},
   "outputs": [
    {
     "name": "stdout",
     "output_type": "stream",
     "text": [
      "['Max', 'Cindy', 'Devon', 'Nate', 'Javier']\n"
     ]
    }
   ],
   "source": [
    "#Value to be removed rather than index\n",
    "names.remove('bob')\n",
    "print(names)"
   ]
  },
  {
   "cell_type": "markdown",
   "metadata": {},
   "source": [
    "##### del()"
   ]
  },
  {
   "cell_type": "code",
   "execution_count": 134,
   "metadata": {},
   "outputs": [
    {
     "name": "stdout",
     "output_type": "stream",
     "text": [
      "['Max', 'Devon', 'Nate', 'Javier']\n"
     ]
    }
   ],
   "source": [
    "#Goes by index, rather than value\n",
    "#Be careful with del, it can cause indexing errors \n",
    "\n",
    "del(names[1])\n",
    "print(names)"
   ]
  },
  {
   "cell_type": "markdown",
   "metadata": {},
   "source": [
    "##### Concatenating Two Lists"
   ]
  },
  {
   "cell_type": "code",
   "execution_count": 142,
   "metadata": {},
   "outputs": [
    {
     "name": "stdout",
     "output_type": "stream",
     "text": [
      "[0, 1, 2, 3, 4, 5]\n"
     ]
    }
   ],
   "source": [
    "#Will append two list together, will NOT add the values\n",
    "\n",
    "list_2 = [0, 1, 2]\n",
    "list_3 = [3, 4, 5]\n",
    "\n",
    "large_list = list_2 + list_3\n",
    "print(large_list)"
   ]
  },
  {
   "cell_type": "markdown",
   "metadata": {},
   "source": [
    "##### Lists Within Lists"
   ]
  },
  {
   "cell_type": "code",
   "execution_count": 141,
   "metadata": {},
   "outputs": [
    {
     "name": "stdout",
     "output_type": "stream",
     "text": [
      "['Max', 'sam', 'Josh', ['Sally', ['Sue', 'Jim'], 'Tameka']]\n",
      "['Sally', ['Sue', 'Jim'], 'Tameka']\n",
      "['Sue', 'Jim']\n",
      "Jim\n"
     ]
    }
   ],
   "source": [
    "#List can hold any data types including other list\n",
    "#They can be nested\n",
    "\n",
    "names = ['Max', 'sam', 'Josh', ['Sally', ['Sue', 'Jim'], 'Tameka']]\n",
    "print(names)\n",
    "print(names[3])\n",
    "print(names[3][1])\n",
    "print(names[3][1][1])"
   ]
  },
  {
   "cell_type": "markdown",
   "metadata": {},
   "source": [
    "##### Looping Through Lists"
   ]
  },
  {
   "cell_type": "code",
   "execution_count": 144,
   "metadata": {},
   "outputs": [
    {
     "name": "stdout",
     "output_type": "stream",
     "text": [
      "Max\n",
      "sam\n",
      "Josh\n",
      "['Sally', ['Sue', 'Jim'], 'Tameka']\n",
      "Max\n",
      "sam\n",
      "Josh\n",
      "['Sally', ['Sue', 'Jim'], 'Tameka']\n"
     ]
    }
   ],
   "source": [
    "#By Index\n",
    "for i in range(len(names)):\n",
    "    print(names[i])\n",
    "    \n",
    "#Loop with 'in'\n",
    "for name in names:\n",
    "    print(name)"
   ]
  },
  {
   "cell_type": "markdown",
   "metadata": {},
   "source": [
    "## Exercise #1 <br>\n",
    "<p>Cube Number Test... Print out all cubed numbers up to the total value 1000. Meaning that if the cubed number is over 1000 break the loop.</p>"
   ]
  },
  {
   "cell_type": "code",
   "execution_count": 20,
   "metadata": {},
   "outputs": [
    {
     "name": "stdout",
     "output_type": "stream",
     "text": [
      "1\n",
      "8\n",
      "27\n",
      "64\n",
      "125\n",
      "216\n",
      "343\n",
      "512\n",
      "729\n",
      "1000\n"
     ]
    }
   ],
   "source": [
    "number = 1\n",
    "\n",
    "while True:\n",
    "    cube = number ** 3\n",
    "    \n",
    "    if cube > 1000:\n",
    "        break\n",
    "    print(cube)\n",
    "    number += 1"
   ]
  },
  {
   "cell_type": "markdown",
   "metadata": {},
   "source": [
    "## Exercise #2 <br>\n",
    "<p>Get first prime numbers up to 100</p>"
   ]
  },
  {
   "cell_type": "code",
   "execution_count": 22,
   "metadata": {},
   "outputs": [
    {
     "name": "stdout",
     "output_type": "stream",
     "text": [
      "2\n",
      "3\n",
      "5\n",
      "7\n",
      "11\n",
      "13\n",
      "17\n",
      "19\n",
      "23\n",
      "29\n",
      "31\n",
      "37\n",
      "41\n",
      "43\n",
      "47\n",
      "53\n",
      "59\n",
      "61\n",
      "67\n",
      "71\n",
      "73\n",
      "79\n",
      "83\n",
      "89\n",
      "97\n"
     ]
    }
   ],
   "source": [
    "# HINT::\n",
    "# An else after an if runs if the if didn’t\n",
    "# An else after a for runs if the for didn’t break\n",
    "\n",
    "for number in range(2,101): \n",
    "    for divisor in range(2,101):\n",
    "        if number % divisor == 0:\n",
    "            break\n",
    "    if number == divisor:\n",
    "        print(number)\n",
    "\n",
    "\n",
    "\n"
   ]
  },
  {
   "cell_type": "markdown",
   "metadata": {},
   "source": [
    "# Exercise 3 <br>\n",
    "<p>Take in a users input for their age, if they are younger than 18 print kids, if they're 18 to 65 print adults, else print seniors</p>"
   ]
  },
  {
   "cell_type": "code",
   "execution_count": 15,
   "metadata": {},
   "outputs": [
    {
     "name": "stdout",
     "output_type": "stream",
     "text": [
      "\n",
      "Please enter the person's age: \n",
      "Enter 'quit' to end the program. quit\n"
     ]
    }
   ],
   "source": [
    "prompt = \"\\nPlease enter the person's age: \"\n",
    "prompt += \"\\nEnter 'quit' to end the program. \"\n",
    "\n",
    "while True:\n",
    "    age = input(prompt)\n",
    "\n",
    "    try:\n",
    "        if age.lower() == 'quit':\n",
    "            break\n",
    "        else:\n",
    "            age = int(age)\n",
    "\n",
    "            if age < 18:\n",
    "                print(\"You are a kid.\")\n",
    "            elif age >= 18 and age < 65:\n",
    "                print(\"You are an adult.\")\n",
    "            else:\n",
    "                print(\"You are a senior citizen.\")\n",
    "    except:\n",
    "        print(\"That didn't work! Please enter a number!\")"
   ]
  },
  {
   "cell_type": "code",
   "execution_count": null,
   "metadata": {},
   "outputs": [],
   "source": []
  }
 ],
 "metadata": {
  "kernelspec": {
   "display_name": "Python 3 (ipykernel)",
   "language": "python",
   "name": "python3"
  },
  "language_info": {
   "codemirror_mode": {
    "name": "ipython",
    "version": 3
   },
   "file_extension": ".py",
   "mimetype": "text/x-python",
   "name": "python",
   "nbconvert_exporter": "python",
   "pygments_lexer": "ipython3",
   "version": "3.10.9"
  }
 },
 "nbformat": 4,
 "nbformat_minor": 2
}
